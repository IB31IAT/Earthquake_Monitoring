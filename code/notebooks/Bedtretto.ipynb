{
 "cells": [
  {
   "cell_type": "code",
   "execution_count": 17,
   "id": "a6221c00-b12d-45ab-a36e-5128dfbe10dd",
   "metadata": {},
   "outputs": [],
   "source": [
    "import numpy as np\n",
    "import sys\n",
    "sys.path.append('..')\n",
    "\n",
    "import torch\n",
    "from torch.utils.data import DataLoader\n",
    "\n",
    "import seisbench.generate as sbg\n",
    "from seisbench.data import WaveformDataset\n",
    "from seisbench.models import EQTransformer\n",
    "from seisbench.util import worker_seeding\n",
    "\n",
    "from utils.augmentations import ChangeChannels, StoreMetadata\n",
    "\n",
    "from utils.evaluation import calculate_metrics\n",
    "# from utils import predict\n",
    "# from evaluation import eval"
   ]
  },
  {
   "cell_type": "code",
   "execution_count": 18,
   "id": "541444d6-0189-4f96-821b-ac83a5382357",
   "metadata": {},
   "outputs": [],
   "source": [
    "data_path = \"/home/trahn/data/bedretto/\"\n",
    "data = WaveformDataset(data_path)\n",
    "data.filter(data[\"trace_ntps\"] == 20001)"
   ]
  },
  {
   "cell_type": "code",
   "execution_count": 19,
   "id": "21dbca8a-d529-4c40-813b-a8960e7cd03c",
   "metadata": {},
   "outputs": [],
   "source": [
    "rng = np.random.default_rng()"
   ]
  },
  {
   "cell_type": "code",
   "execution_count": 20,
   "id": "d1d2a229-0ec4-4834-bdca-87af9fbd94ef",
   "metadata": {},
   "outputs": [],
   "source": [
    "def predict(model, dataloader):\n",
    "    \"\"\"Convenience function for predicting values in `dataloader' using `model'.  Returns a dictionary with keys 'predicitions' and 'targets'\"\"\"\n",
    "    predictions = []\n",
    "    targets = []\n",
    "\n",
    "    model.eval()  # close model for evaluation\n",
    "\n",
    "    with torch.no_grad():\n",
    "        for batch in dataloader:\n",
    "            # TODO: window_borders does not exist for us.\n",
    "            # window_borders = batch[\"window_borders\"]\n",
    "\n",
    "            det_pred, p_pred, s_pred = model(batch[\"X\"].to(model.device))\n",
    "\n",
    "\n",
    "            score_detection = torch.zeros(det_pred.shape[0])\n",
    "            score_p_or_s = torch.zeros(det_pred.shape[0])\n",
    "            p_sample = torch.zeros(det_pred.shape[0], dtype=int)\n",
    "            s_sample = torch.zeros(det_pred.shape[0], dtype=int)\n",
    "            for i in range(det_pred.shape[0]):\n",
    "                # TODO In pick-benchmark every batch as a \"window_borders\" property that is used here, but we do not have that (?) so I am just using the full rage instead.\n",
    "                # start_sample, end_sample = window_borders[i]\n",
    "                local_det_pred = det_pred[i, :]\n",
    "                local_p_pred = p_pred[i, :]\n",
    "                local_s_pred = s_pred[i, :]\n",
    "\n",
    "                score_detection[i] = torch.max(local_det_pred)\n",
    "                score_p_or_s[i] = torch.max(local_p_pred) / torch.max(\n",
    "                    local_s_pred\n",
    "                )  # most likely P by most likely S\n",
    "\n",
    "                p_sample[i] = torch.argmax(local_p_pred)\n",
    "                s_sample[i] = torch.argmax(local_s_pred)\n",
    "\n",
    "            # TODO Also see notebook for usage\n",
    "            predictions.append(\n",
    "                torch.stack((score_detection, p_sample, s_sample), dim=1).cpu()\n",
    "            )\n",
    "            targets.append([True, batch[\"trace_p_arrival_sample\"][0].item(), batch[\"trace_s_arrival_sample\"][0].item()])\n",
    "\n",
    "    return {\"predictions\": np.vstack(predictions), \"targets\": np.concatenate(targets)}\n"
   ]
  },
  {
   "cell_type": "code",
   "execution_count": 21,
   "id": "e5259541-2931-490b-89ba-59f6da67c837",
   "metadata": {},
   "outputs": [],
   "source": [
    "phase_dict = {\n",
    "    \"trace_p_arrival_sample\": \"P\",\n",
    "    \"trace_pP_arrival_sample\": \"P\",\n",
    "    \"trace_P_arrival_sample\": \"P\",\n",
    "    \"trace_P1_arrival_sample\": \"P\",\n",
    "    \"trace_Pg_arrival_sample\": \"P\",\n",
    "    \"trace_Pn_arrival_sample\": \"P\",\n",
    "    \"trace_PmP_arrival_sample\": \"P\",\n",
    "    \"trace_pwP_arrival_sample\": \"P\",\n",
    "    \"trace_pwPm_arrival_sample\": \"P\",\n",
    "    \"trace_s_arrival_sample\": \"S\",\n",
    "    \"trace_S_arrival_sample\": \"S\",\n",
    "    \"trace_S1_arrival_sample\": \"S\",\n",
    "    \"trace_Sg_arrival_sample\": \"S\",\n",
    "    \"trace_SmS_arrival_sample\": \"S\",\n",
    "    \"trace_Sn_arrival_sample\": \"S\",\n",
    "}\n",
    "\n",
    "def get_eval_augmentations():\n",
    "    p_phases = [key for key, val in phase_dict.items() if val == \"P\"]\n",
    "    s_phases = [key for key, val in phase_dict.items() if val == \"S\"]\n",
    "\n",
    "    detection_labeller = sbg.DetectionLabeller(\n",
    "        p_phases, s_phases=s_phases, key=(\"X\", \"detections\")\n",
    "    )\n",
    "\n",
    "    return [\n",
    "        StoreMetadata('trace_p_arrival_sample'),\n",
    "        StoreMetadata(\"trace_s_arrival_sample\"),\n",
    "        sbg.RandomWindow(\n",
    "            low=None,\n",
    "            high=None,\n",
    "            windowlen=20000,\n",
    "            strategy=\"pad\",\n",
    "        ),\n",
    "        sbg.ProbabilisticLabeller(label_columns=phase_dict, sigma=20, dim=0),\n",
    "        detection_labeller,\n",
    "        sbg.ChangeDtype(np.float32, \"X\"),\n",
    "        sbg.ChangeDtype(np.float32, \"y\"),\n",
    "        sbg.ChangeDtype(np.float32, \"detections\"),\n",
    "        ChangeChannels(0),\n",
    "        StoreMetadata('trace_snr'),\n",
    "        sbg.Normalize(detrend_axis=-1, amp_norm_axis=-1, amp_norm_type=\"peak\"),\n",
    "    ]"
   ]
  },
  {
   "cell_type": "code",
   "execution_count": 6,
   "id": "90a2311c-74d1-41f0-b001-025495a13aa4",
   "metadata": {},
   "outputs": [],
   "source": [
    "train, dev, test = data.train_dev_test()\n",
    "\n",
    "data_generator = sbg.GenericGenerator(test)\n",
    "data_generator.add_augmentations(get_eval_augmentations())\n",
    "data_loader = DataLoader(\n",
    "    data_generator,\n",
    "    batch_size=1,\n",
    "    shuffle=False,\n",
    "    num_workers=0,\n",
    "    worker_init_fn=worker_seeding,\n",
    "    # drop_last=True,\n",
    ")"
   ]
  },
  {
   "cell_type": "code",
   "execution_count": 7,
   "id": "4ea469a7-bfaa-4b86-8396-4e399fed166b",
   "metadata": {},
   "outputs": [
    {
     "data": {
      "text/plain": [
       "<All keys matched successfully>"
      ]
     },
     "execution_count": 7,
     "metadata": {},
     "output_type": "execute_result"
    }
   ],
   "source": [
    "model = EQTransformer(in_channels=1, in_samples=20000)\n",
    "checkpoint = torch.load(\"../../results/trained_models/eqt_bedretto_from_scratch/checkpoint-50.pt\", map_location=\"cpu\")\n",
    "model.load_state_dict(checkpoint[\"state_dict\"])"
   ]
  },
  {
   "cell_type": "code",
   "execution_count": 8,
   "id": "769af87b-313d-4f87-90ee-477f3cbec2f7",
   "metadata": {},
   "outputs": [
    {
     "name": "stdout",
     "output_type": "stream",
     "text": [
      "Run predictions.\n"
     ]
    }
   ],
   "source": [
    "print(\"Run predictions.\")\n",
    "res = predict(model, data_loader)"
   ]
  },
  {
   "cell_type": "code",
   "execution_count": 9,
   "id": "c9378f5f-2dcc-4b84-937b-3c1f018228cc",
   "metadata": {},
   "outputs": [],
   "source": [
    "res[\"targets\"] = res[\"targets\"].reshape(-1, 3)"
   ]
  },
  {
   "cell_type": "code",
   "execution_count": 10,
   "id": "10665994-f8bd-4117-97bc-9a6728bd630b",
   "metadata": {},
   "outputs": [],
   "source": [
    "targets = res[\"targets\"]\n",
    "det_true = targets[:, 0]\n",
    "p_true = targets[:, 1]\n",
    "s_true = targets[:, 1]\n",
    "\n",
    "predictions = res[\"predictions\"]\n",
    "det_pred = predictions[:, 0]\n",
    "p_pred = predictions[:, 1]\n",
    "s_pred = predictions[:, 2]"
   ]
  },
  {
   "cell_type": "code",
   "execution_count": 11,
   "id": "91d6b7ce-e6b7-4c2c-be29-f0829910cc27",
   "metadata": {},
   "outputs": [],
   "source": [
    "p_nans = np.isnan(p_true)\n",
    "s_nans = np.isnan(s_true)\n",
    "\n",
    "p_true = p_true[~p_nans]\n",
    "s_true = s_true[~s_nans]\n",
    "\n",
    "p_pred = p_pred[~p_nans]\n",
    "s_pred = s_pred[~s_nans]"
   ]
  },
  {
   "cell_type": "code",
   "execution_count": 30,
   "id": "73153d6e",
   "metadata": {},
   "outputs": [
    {
     "name": "stdout",
     "output_type": "stream",
     "text": [
      "Build ground truth.\n"
     ]
    }
   ],
   "source": [
    "snr = []\n",
    "\n",
    "print(\"Build ground truth.\")\n",
    "for batch in data_loader:\n",
    "    local_snr = batch['trace_snr']\n",
    "    if isinstance(local_snr, str):\n",
    "        local_snr = float(\n",
    "            local_snr.replace(\"[\", \"\").replace(\"]\", \"\").strip().split(\" \")[0]\n",
    "        )\n",
    "    else:\n",
    "        local_snr = 0.0\n",
    "\n",
    "    snr.append(local_snr)\n",
    "\n",
    "snr = np.array(snr)\n",
    "snr = snr[~p_nans]"
   ]
  },
  {
   "cell_type": "code",
   "execution_count": 53,
   "id": "8053aa17",
   "metadata": {},
   "outputs": [
    {
     "name": "stdout",
     "output_type": "stream",
     "text": [
      "Build ground truth.\n"
     ]
    }
   ],
   "source": [
    "snr = []\n",
    "\n",
    "print(\"Build ground truth.\")\n",
    "for idx in range(len(test)):\n",
    "    _, metadata = data.get_sample(idx)\n",
    "    local_snr = metadata[\"trace_snr\"]\n",
    "    if isinstance(local_snr, str):\n",
    "        local_snr = float(\n",
    "            local_snr.replace(\"[\", \"\").replace(\"]\", \"\").strip().split(\" \")[0]\n",
    "        )\n",
    "\n",
    "    snr.append(local_snr)\n",
    "\n",
    "snr = np.array(snr)\n",
    "snr = snr[~p_nans]"
   ]
  },
  {
   "cell_type": "code",
   "execution_count": 55,
   "id": "8fc0b585-531a-47c6-a6ee-707ed5393e92",
   "metadata": {},
   "outputs": [
    {
     "name": "stdout",
     "output_type": "stream",
     "text": [
      "Evaluate predictions.\n"
     ]
    },
    {
     "name": "stderr",
     "output_type": "stream",
     "text": [
      "/home/trahn/.local/lib/python3.10/site-packages/sklearn/metrics/_ranking.py:1124: UndefinedMetricWarning: No negative samples in y_true, false positive value should be meaningless\n",
      "  warnings.warn(\n"
     ]
    }
   ],
   "source": [
    "from sklearn.metrics import (\n",
    "    confusion_matrix,\n",
    "    roc_curve,\n",
    "    precision_score,\n",
    "    recall_score,\n",
    "    f1_score,\n",
    "    mean_absolute_error,\n",
    "    mean_absolute_percentage_error,\n",
    "    mean_squared_error,\n",
    ")\n",
    "\n",
    "detection_threshold = 0.5\n",
    "\n",
    "print(\"Evaluate predictions.\")\n",
    "det_roc = roc_curve(det_true, det_pred)\n",
    "\n",
    "# NOTE: detection_threshold is a hyperparamater\n",
    "det_pred = np.ceil(det_pred - detection_threshold)\n",
    "\n",
    "results = dict()\n",
    "\n",
    "results[\"det_roc\"] = det_roc\n",
    "for det_metric in [confusion_matrix, precision_score, recall_score, f1_score]:\n",
    "    results[f\"det_{det_metric.__name__}\"] = det_metric(det_true, det_pred)\n",
    "\n",
    "for pick, true, pred in [(\"p\", p_true, p_pred), (\"s\", s_true, s_pred)]:\n",
    "    for name, metric in [(\"mu\", np.mean), (\"std\", np.std)]:\n",
    "        results[f\"{pick}_{name}\"] = metric(true - pred)\n",
    "    for name, metric in [\n",
    "        (\"MAE\", mean_absolute_error),\n",
    "        (\"MAPE\", mean_absolute_percentage_error),\n",
    "        (\"RMSE\", lambda true, pred: mean_squared_error(true, pred, squared=False))\n",
    "    ]:\n",
    "        results[f\"{pick}_{name}\"] = metric(true, pred)\n",
    "\n",
    "results[\"p_res\"] = p_true - p_pred\n",
    "results[\"s_res\"] = s_true - s_pred\n",
    "results[\"snr\"] = snr"
   ]
  },
  {
   "cell_type": "code",
   "execution_count": 56,
   "id": "b0a3b6b5-970e-4392-9532-8a06e9043f87",
   "metadata": {},
   "outputs": [
    {
     "name": "stdout",
     "output_type": "stream",
     "text": [
      "det_precision_score\t1.0000\n",
      "det_recall_score\t0.4629\n",
      "det_f1_score\t0.6328\n",
      "p_mu\t2.9877\n",
      "p_std\t1030.7170\n",
      "p_MAE\t160.4598\n",
      "p_MAPE\t0.0160\n",
      "p_RMSE\t1030.7214\n",
      "s_mu\t-4455.8651\n",
      "s_std\t4628.2067\n",
      "s_MAE\t4698.9750\n",
      "s_MAPE\t0.4699\n",
      "s_RMSE\t6424.5646\n"
     ]
    }
   ],
   "source": [
    "for k in ['det_precision_score', 'det_recall_score', 'det_f1_score', 'p_mu', 'p_std', 'p_MAE', 'p_MAPE', 'p_RMSE', 's_mu', 's_std', 's_MAE', 's_MAPE', 's_RMSE']:\n",
    "    print(f\"{k}\\t{results[k]:>.4f}\")"
   ]
  },
  {
   "cell_type": "code",
   "execution_count": 57,
   "id": "7f5b6158-b098-4896-85f2-751e259bdbf1",
   "metadata": {},
   "outputs": [],
   "source": [
    "import pickle"
   ]
  },
  {
   "cell_type": "code",
   "execution_count": 58,
   "id": "e2ac9cb3-2778-4371-a786-9709cf0684bb",
   "metadata": {},
   "outputs": [],
   "source": [
    "with open(\"bedretto.pickle\", \"wb\") as f:\n",
    "    pickle.dump(results, f, pickle.HIGHEST_PROTOCOL)"
   ]
  },
  {
   "cell_type": "code",
   "execution_count": null,
   "id": "29ab4d7d",
   "metadata": {},
   "outputs": [],
   "source": []
  }
 ],
 "metadata": {
  "kernelspec": {
   "display_name": "Python 3 (ipykernel)",
   "language": "python",
   "name": "python3"
  },
  "language_info": {
   "codemirror_mode": {
    "name": "ipython",
    "version": 3
   },
   "file_extension": ".py",
   "mimetype": "text/x-python",
   "name": "python",
   "nbconvert_exporter": "python",
   "pygments_lexer": "ipython3",
   "version": "3.10.13"
  }
 },
 "nbformat": 4,
 "nbformat_minor": 5
}
