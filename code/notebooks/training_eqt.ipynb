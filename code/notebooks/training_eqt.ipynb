{
 "cells": [
  {
   "cell_type": "markdown",
   "id": "7f032984",
   "metadata": {
    "pycharm": {
     "name": "#%% md\n"
    }
   },
   "source": [
    "# Training EQTransformers\n",
    "\n",
    "In this notebook we experimnted on how to train the EQTransformer. We used this [Colab notebook](https://colab.research.google.com/github/seisbench/seisbench/blob/main/examples/03a_training_phasenet.ipynb) that shows how to train Phasenet as a baseline and incoorporated information used in [Pick Benchmark](https://github.com/seisbench/pick-benchmark) for specifics on how to train the EQT model"
   ]
  },
  {
   "cell_type": "code",
   "execution_count": 1,
   "id": "689c1ea9",
   "metadata": {
    "pycharm": {
     "name": "#%%\n"
    }
   },
   "outputs": [],
   "source": [
    "import seisbench.data as sbd\n",
    "import seisbench.generate as sbg\n",
    "import seisbench.models as sbm\n",
    "from seisbench.util import worker_seeding\n",
    "\n",
    "import numpy as np\n",
    "import matplotlib.pyplot as plt\n",
    "import torch\n",
    "from torch.utils.data import DataLoader\n",
    "from obspy.clients.fdsn import Client\n",
    "from obspy import UTCDateTime\n",
    "\n",
    "from seisbench.data import WaveformDataset\n",
    "from torch.utils.data import DataLoader\n",
    "from augmentations import ChangeChannels\n",
    "from augmentations import DuplicateEvent\n",
    "from tqdm import tqdm\n",
    "\n",
    "import pandas as pd\n"
   ]
  },
  {
   "cell_type": "markdown",
   "metadata": {},
   "source": [
    "### Bedretteo Data"
   ]
  },
  {
   "cell_type": "code",
   "execution_count": 5,
   "metadata": {},
   "outputs": [],
   "source": [
    "# Preprocess bedretto data to add train,test,dev metadata\n",
    "def annotate_bedretto(splits=(0.6,0.2,0.2)):\n",
    "  with open('../../data/bedretto/metadata_original.csv', 'r') as in_file:\n",
    "    df = pd.read_csv(in_file)\n",
    "\n",
    "  # Add the split column\n",
    "  num_samples = df.shape[0]\n",
    "  num_train = int(num_samples*splits[0])\n",
    "  num_test = int(num_samples*splits[1])\n",
    "  num_dev = int(num_samples*splits[2])\n",
    "\n",
    "  splits = [None]*num_samples\n",
    "  splits[:num_train] = ['train']*num_train\n",
    "  splits[num_train:num_train+num_test] = ['test']*num_test\n",
    "  splits[num_train+num_test:num_train+num_test+num_dev] = ['dev']*num_dev\n",
    "\n",
    "  df.insert(df.shape[1], 'split', splits)\n",
    "\n",
    "  with open('../../data/bedretto/metadata.csv', 'w') as out_file:\n",
    "    df.to_csv(out_file, index=False)\n",
    "\n",
    "  return df\n"
   ]
  },
  {
   "cell_type": "code",
   "execution_count": 6,
   "metadata": {},
   "outputs": [],
   "source": [
    "annotate_bedretto();\n"
   ]
  },
  {
   "cell_type": "markdown",
   "id": "6b9649cd",
   "metadata": {
    "pycharm": {
     "name": "#%% md\n"
    }
   },
   "source": [
    "## Model and data\n",
    "\n",
    "We create a randomly initialized PhaseNet model using `seisbench.models`. If available, you can move your model onto the GPU for faster training."
   ]
  },
  {
   "cell_type": "code",
   "execution_count": 2,
   "id": "b596d33f",
   "metadata": {
    "pycharm": {
     "name": "#%%\n"
    }
   },
   "outputs": [],
   "source": [
    "model = sbm.EQTransformer(in_channels=1)\n",
    "model.cuda();\n"
   ]
  },
  {
   "cell_type": "code",
   "execution_count": 7,
   "metadata": {},
   "outputs": [],
   "source": [
    "data = WaveformDataset(\"/home/trahn/data/bedretto\")\n",
    "train, dev, test = data.train_dev_test()\n"
   ]
  },
  {
   "cell_type": "markdown",
   "id": "d876fa35",
   "metadata": {
    "pycharm": {
     "name": "#%% md\n"
    }
   },
   "source": [
    "## Generation pipeline"
   ]
  },
  {
   "cell_type": "markdown",
   "id": "27c037b8",
   "metadata": {
    "pycharm": {
     "name": "#%% md\n"
    }
   },
   "source": [
    "The ETHZ dataset contains detailed labels for the phases. However, for this example we only want to differentiate between P and S picks. Therefore, we define a dictionary mapping the detailed picks to their phases."
   ]
  },
  {
   "cell_type": "code",
   "execution_count": 8,
   "id": "930b8ed6",
   "metadata": {
    "pycharm": {
     "name": "#%%\n"
    }
   },
   "outputs": [],
   "source": [
    "phase_dict = {\n",
    "    \"trace_p_arrival_sample\": \"P\",\n",
    "    \"trace_pP_arrival_sample\": \"P\",\n",
    "    \"trace_P_arrival_sample\": \"P\",\n",
    "    \"trace_P1_arrival_sample\": \"P\",\n",
    "    \"trace_Pg_arrival_sample\": \"P\",\n",
    "    \"trace_Pn_arrival_sample\": \"P\",\n",
    "    \"trace_PmP_arrival_sample\": \"P\",\n",
    "    \"trace_pwP_arrival_sample\": \"P\",\n",
    "    \"trace_pwPm_arrival_sample\": \"P\",\n",
    "    \"trace_s_arrival_sample\": \"S\",\n",
    "    \"trace_S_arrival_sample\": \"S\",\n",
    "    \"trace_S1_arrival_sample\": \"S\",\n",
    "    \"trace_Sg_arrival_sample\": \"S\",\n",
    "    \"trace_SmS_arrival_sample\": \"S\",\n",
    "    \"trace_Sn_arrival_sample\": \"S\",\n",
    "}\n"
   ]
  },
  {
   "cell_type": "markdown",
   "id": "8bc7cfc9",
   "metadata": {
    "pycharm": {
     "name": "#%% md\n"
    }
   },
   "source": [
    "Now we define two generators with identical augmentations, one for training, one for validation. The augmentations are:\n",
    "1. Selection of a (long) window around a pick. This way, we ensure that out data always contains a pick.\n",
    "1. Selection of a random window with 3001 samples, the input length of PhaseNet.\n",
    "1. A normalization, consisting of demeaning and amplitude normalization.\n",
    "1. A change of datatype to float32, as this is expected by the pytorch model.\n",
    "1. A probabilistic label"
   ]
  },
  {
   "cell_type": "code",
   "execution_count": 9,
   "metadata": {},
   "outputs": [],
   "source": [
    "def get_joint_augmentations(sample_boundaries, sigma):\n",
    "    p_phases = [key for key, val in phase_dict.items() if val == \"P\"]\n",
    "    s_phases = [key for key, val in phase_dict.items() if val == \"S\"]\n",
    "\n",
    "\n",
    "    detection_labeller = sbg.DetectionLabeller(\n",
    "        p_phases, s_phases=s_phases, key=(\"X\", \"detections\")\n",
    "    )\n",
    "\n",
    "    block1 = [\n",
    "        # In 2/3 of the cases, select windows around picks, to reduce amount of noise traces in training.\n",
    "        # Uses strategy variable, as padding will be handled by the random window.\n",
    "        # In 1/3 of the cases, just returns the original trace, to keep diversity high.\n",
    "        sbg.OneOf(\n",
    "            [\n",
    "                sbg.WindowAroundSample(\n",
    "                    list(phase_dict.keys()),\n",
    "                    samples_before=6000,\n",
    "                    windowlen=12000,\n",
    "                    selection=\"random\",\n",
    "                    strategy=\"variable\",\n",
    "                ),\n",
    "                sbg.NullAugmentation(),\n",
    "            ],\n",
    "            probabilities=[2, 1],\n",
    "        ),\n",
    "        sbg.RandomWindow(\n",
    "            low=sample_boundaries[0],\n",
    "            high=sample_boundaries[1],\n",
    "            windowlen=6000,\n",
    "            strategy=\"pad\",\n",
    "        ),\n",
    "        sbg.ProbabilisticLabeller(\n",
    "            label_columns=phase_dict, sigma=sigma, dim=0\n",
    "        ),\n",
    "        detection_labeller,\n",
    "        # Normalize to ensure correct augmentation behavior\n",
    "        sbg.Normalize(detrend_axis=-1, amp_norm_axis=-1, amp_norm_type=\"peak\"),\n",
    "    ]\n",
    "\n",
    "    block2 = [\n",
    "        sbg.ChangeDtype(np.float32, \"X\"),\n",
    "        sbg.ChangeDtype(np.float32, \"y\"),\n",
    "        sbg.ChangeDtype(np.float32, \"detections\"),\n",
    "        ChangeChannels(0)\n",
    "    ]\n",
    "\n",
    "    return block1, block2\n",
    "\n",
    "def get_train_augmentations(rotate_array=False):\n",
    "    if rotate_array:\n",
    "        rotation_block = [\n",
    "            sbg.OneOf(\n",
    "                [\n",
    "                    sbg.RandomArrayRotation([\"X\", \"y\", \"detections\"]),\n",
    "                    sbg.NullAugmentation(),\n",
    "                ],\n",
    "                [0.99, 0.01],\n",
    "            )\n",
    "        ]\n",
    "    else:\n",
    "        rotation_block = []\n",
    "\n",
    "    augmentation_block = [\n",
    "        # Add secondary event\n",
    "        sbg.OneOf(\n",
    "            [DuplicateEvent(label_keys=\"y\"), sbg.NullAugmentation()],\n",
    "            probabilities=[0.3, 0.7],\n",
    "        ),\n",
    "        # Gaussian noise\n",
    "        sbg.OneOf([sbg.GaussianNoise(), sbg.NullAugmentation()], [0.5, 0.5]),\n",
    "        # Array rotation\n",
    "        *rotation_block,\n",
    "        # Gaps\n",
    "        sbg.OneOf([sbg.AddGap(), sbg.NullAugmentation()], [0.2, 0.8]),\n",
    "        # Channel dropout\n",
    "        sbg.OneOf([sbg.ChannelDropout(), sbg.NullAugmentation()], [0.3, 0.7]),\n",
    "        # Augmentations make second normalize necessary\n",
    "        sbg.Normalize(detrend_axis=-1, amp_norm_axis=-1, amp_norm_type=\"peak\"),\n",
    "    ]\n",
    "\n",
    "    block1, block2 = get_joint_augmentations(sample_boundaries=(None, None), sigma=20)\n",
    "\n",
    "    return block1 + augmentation_block + block2\n",
    "\n",
    "def get_val_augmentations():\n",
    "    block1, block2 = get_joint_augmentations(sample_boundaries=(None, None), sigma=20)\n",
    "\n",
    "    return block1 + block2\n"
   ]
  },
  {
   "cell_type": "code",
   "execution_count": 10,
   "id": "cce52377",
   "metadata": {
    "pycharm": {
     "name": "#%%\n"
    }
   },
   "outputs": [],
   "source": [
    "train_generator = sbg.GenericGenerator(train)\n",
    "dev_generator = sbg.GenericGenerator(dev)\n",
    "test_generator = sbg.GenericGenerator(test)\n",
    "\n",
    "\n",
    "train_generator.add_augmentations(get_train_augmentations(rotate_array=True))\n",
    "dev_generator.add_augmentations(get_val_augmentations())\n",
    "test_generator.add_augmentations(get_val_augmentations())\n"
   ]
  },
  {
   "cell_type": "markdown",
   "id": "454e75a3",
   "metadata": {
    "pycharm": {
     "name": "#%% md\n"
    }
   },
   "source": [
    "Let's visualize a few training examples. Everytime you run the cell below, you'll see a different training example."
   ]
  },
  {
   "cell_type": "code",
   "execution_count": 16,
   "id": "d7ef0570",
   "metadata": {
    "pycharm": {
     "name": "#%%\n"
    }
   },
   "outputs": [
    {
     "data": {
      "text/plain": [
       "[<matplotlib.lines.Line2D at 0x7ff14ec16980>]"
      ]
     },
     "execution_count": 16,
     "metadata": {},
     "output_type": "execute_result"
    },
    {
     "data": {
      "image/png": "[encoded data removed]",
      "text/plain": [
       "<Figure size 900x600 with 2 Axes>"
      ]
     },
     "metadata": {},
     "output_type": "display_data"
    }
   ],
   "source": [
    "sample = train_generator[np.random.randint(len(train_generator))]\n",
    "\n",
    "fig = plt.figure(figsize=(9, 6))\n",
    "axs = fig.subplots(2, 1, sharex=True, gridspec_kw={\"hspace\": 0, \"height_ratios\": [2, 1]})\n",
    "\n",
    "axs[0].plot(sample[\"X\"].T, color='gray', linewidth='0.8')\n",
    "axs[1].plot(sample[\"y\"][:2].T)\n",
    "axs[1].plot(sample[\"detections\"].T)\n"
   ]
  },
  {
   "cell_type": "markdown",
   "id": "005455e0",
   "metadata": {
    "pycharm": {
     "name": "#%% md\n"
    }
   },
   "source": [
    "SeisBench generators are pytorch datasets. Therefore, we can pass them to pytorch data loaders. These will automatically take care of parallel loading and batching. Here we create one loader for training and one for validation. We choose a batch size of 256 samples. This batch size should fit on most hardware."
   ]
  },
  {
   "cell_type": "code",
   "execution_count": 17,
   "id": "2bf2e42c",
   "metadata": {
    "pycharm": {
     "name": "#%%\n"
    }
   },
   "outputs": [],
   "source": [
    "batch_size = 512\n",
    "num_workers = 24  # The number of threads used for loading data\n",
    "\n",
    "train_loader = DataLoader(train_generator, batch_size=batch_size, shuffle=True, num_workers=num_workers, worker_init_fn=worker_seeding)\n",
    "dev_loader = DataLoader(dev_generator, batch_size=batch_size, shuffle=False, num_workers=num_workers, worker_init_fn=worker_seeding)\n",
    "test_loader = DataLoader(test_generator, batch_size=batch_size, shuffle=False, num_workers=num_workers, worker_init_fn=worker_seeding)\n"
   ]
  },
  {
   "cell_type": "markdown",
   "id": "0e9b009a",
   "metadata": {
    "pycharm": {
     "name": "#%% md\n"
    }
   },
   "source": [
    "## Training a model"
   ]
  },
  {
   "cell_type": "markdown",
   "id": "9024bf3c",
   "metadata": {
    "pycharm": {
     "name": "#%% md\n"
    }
   },
   "source": [
    "Now we got all components for training the model. What we still need to do is define the optimizer and the loss, and write the training and validation loops."
   ]
  },
  {
   "cell_type": "code",
   "execution_count": 29,
   "id": "5ef5581f",
   "metadata": {
    "pycharm": {
     "name": "#%%\n"
    }
   },
   "outputs": [],
   "source": [
    "learning_rate = 1e-3\n",
    "epochs = 9\n",
    "\n",
    "optimizer = torch.optim.Adam(model.parameters(), lr=learning_rate)\n",
    "loss_fc = torch.nn.BCELoss()\n",
    "\n",
    "def loss_fn(y_pred, y_true, det_true):\n",
    "    # vector cross entropy loss\n",
    "    p_true = y_true[:, 0]\n",
    "    s_true = y_true[:, 1]\n",
    "    det_true = det_true[:, 0]\n",
    "\n",
    "    det_pred = y_pred[:,0]\n",
    "    p_pred = y_pred[:,1]\n",
    "    s_pred = y_pred[:,2]\n",
    "\n",
    "    return (\n",
    "        0.05 * loss_fc(det_pred.float(), det_true.float())\n",
    "        + 0.4 * loss_fc(p_pred.float(), p_true.float())\n",
    "        + 0.55 * loss_fc(s_pred.float(), s_true.float())\n",
    "    )\n"
   ]
  },
  {
   "cell_type": "code",
   "execution_count": 27,
   "id": "4b9e5e96",
   "metadata": {
    "pycharm": {
     "name": "#%%\n"
    }
   },
   "outputs": [],
   "source": [
    "def train_loop(dataloader):\n",
    "    model.train()\n",
    "    loss = 0.0\n",
    "    pbar = tqdm(dataloader)\n",
    "    for batch in pbar:\n",
    "        # Adapt process bar descrption\n",
    "        pbar.set_description(f\"loss: {loss:>7f}\")\n",
    "        pbar.refresh()\n",
    "\n",
    "        # Compute prediction and loss\n",
    "        pred = torch.stack(model(batch[\"X\"].to(model.device)), dim=1)\n",
    "        loss = loss_fn(pred, batch[\"y\"].to(model.device), batch[\"detections\"].to(model.device))\n",
    "\n",
    "        # Backpropagation\n",
    "        optimizer.zero_grad()\n",
    "        loss.backward()\n",
    "        optimizer.step()\n",
    "\n",
    "        loss = loss.item()\n",
    "\n",
    "\n",
    "def test_loop(dataloader):\n",
    "    num_batches = len(dataloader)\n",
    "    test_loss = 0\n",
    "\n",
    "    model.eval()  # close the model for evaluation\n",
    "\n",
    "    with torch.no_grad():\n",
    "        for batch in dataloader:\n",
    "            pred =  torch.stack(model(batch[\"X\"].to(model.device)), dim=1)\n",
    "            test_loss += loss_fn(pred, batch[\"y\"].to(model.device), batch[\"detections\"].to(model.device)).item()\n",
    "\n",
    "    model.train()  # re-open model for training stage\n",
    "\n",
    "    test_loss /= num_batches\n",
    "    print(f\"Test avg loss: {test_loss:>8f} \\n\")\n"
   ]
  },
  {
   "cell_type": "code",
   "execution_count": 30,
   "metadata": {},
   "outputs": [
    {
     "name": "stdout",
     "output_type": "stream",
     "text": [
      "Epoch 1\n",
      "-------------------------------\n"
     ]
    },
    {
     "name": "stderr",
     "output_type": "stream",
     "text": [
      "loss: 0.025131: 100%|██████████| 13/13 [00:10<00:00,  1.24it/s]\n"
     ]
    },
    {
     "name": "stdout",
     "output_type": "stream",
     "text": [
      "Test avg loss: 0.020047 \n",
      "\n",
      "Epoch 2\n",
      "-------------------------------\n"
     ]
    },
    {
     "name": "stderr",
     "output_type": "stream",
     "text": [
      "loss: 0.023293: 100%|██████████| 13/13 [00:09<00:00,  1.35it/s]\n"
     ]
    },
    {
     "name": "stdout",
     "output_type": "stream",
     "text": [
      "Test avg loss: 0.014392 \n",
      "\n",
      "Epoch 3\n",
      "-------------------------------\n"
     ]
    },
    {
     "name": "stderr",
     "output_type": "stream",
     "text": [
      "loss: 0.023617: 100%|██████████| 13/13 [00:09<00:00,  1.33it/s]\n"
     ]
    },
    {
     "name": "stdout",
     "output_type": "stream",
     "text": [
      "Test avg loss: 0.014898 \n",
      "\n",
      "Epoch 4\n",
      "-------------------------------\n"
     ]
    },
    {
     "name": "stderr",
     "output_type": "stream",
     "text": [
      "loss: 0.024815: 100%|██████████| 13/13 [00:09<00:00,  1.39it/s]\n"
     ]
    },
    {
     "name": "stdout",
     "output_type": "stream",
     "text": [
      "Test avg loss: 0.015438 \n",
      "\n",
      "Epoch 5\n",
      "-------------------------------\n"
     ]
    },
    {
     "name": "stderr",
     "output_type": "stream",
     "text": [
      "loss: 0.025288: 100%|██████████| 13/13 [00:10<00:00,  1.27it/s]\n"
     ]
    },
    {
     "name": "stdout",
     "output_type": "stream",
     "text": [
      "Test avg loss: 0.013354 \n",
      "\n",
      "Epoch 6\n",
      "-------------------------------\n"
     ]
    },
    {
     "name": "stderr",
     "output_type": "stream",
     "text": [
      "loss: 0.022894: 100%|██████████| 13/13 [00:08<00:00,  1.45it/s]\n"
     ]
    },
    {
     "name": "stdout",
     "output_type": "stream",
     "text": [
      "Test avg loss: 0.014697 \n",
      "\n",
      "Epoch 7\n",
      "-------------------------------\n"
     ]
    },
    {
     "name": "stderr",
     "output_type": "stream",
     "text": [
      "loss: 0.022412: 100%|██████████| 13/13 [00:09<00:00,  1.43it/s]\n"
     ]
    },
    {
     "name": "stdout",
     "output_type": "stream",
     "text": [
      "Test avg loss: 0.014713 \n",
      "\n",
      "Epoch 8\n",
      "-------------------------------\n"
     ]
    },
    {
     "name": "stderr",
     "output_type": "stream",
     "text": [
      "loss: 0.023858: 100%|██████████| 13/13 [00:09<00:00,  1.41it/s]\n"
     ]
    },
    {
     "name": "stdout",
     "output_type": "stream",
     "text": [
      "Test avg loss: 0.013762 \n",
      "\n",
      "Epoch 9\n",
      "-------------------------------\n"
     ]
    },
    {
     "name": "stderr",
     "output_type": "stream",
     "text": [
      "loss: 0.022689: 100%|██████████| 13/13 [00:09<00:00,  1.38it/s]\n"
     ]
    },
    {
     "name": "stdout",
     "output_type": "stream",
     "text": [
      "Test avg loss: 0.014736 \n",
      "\n"
     ]
    }
   ],
   "source": [
    "for t in range(epochs):\n",
    "    print(f\"Epoch {t+1}\\n-------------------------------\")\n",
    "    train_loop(train_loader)\n",
    "    test_loop(dev_loader)\n"
   ]
  },
  {
   "cell_type": "markdown",
   "id": "93a43e14",
   "metadata": {
    "pycharm": {
     "name": "#%% md\n"
    }
   },
   "source": [
    "## Evaluating the model\n",
    "\n",
    "Not that we trained the model, we can evaluate it. First, we'll check how the model does on an example from the development set. Note that the model will most likely not be fully trained after only five epochs."
   ]
  },
  {
   "cell_type": "code",
   "execution_count": 42,
   "id": "7c6a38a2",
   "metadata": {
    "pycharm": {
     "name": "#%%\n"
    }
   },
   "outputs": [
    {
     "data": {
      "image/png": "[encoded data removed]",
      "text/plain": [
       "<Figure size 900x600 with 3 Axes>"
      ]
     },
     "metadata": {},
     "output_type": "display_data"
    }
   ],
   "source": [
    "sample = dev_generator[np.random.randint(len(dev_generator))]\n",
    "\n",
    "fig = plt.figure(figsize=(9, 6))\n",
    "axs = fig.subplots(3, 1, sharex=True, gridspec_kw={\"hspace\": 0, \"height_ratios\": [2, 1, 1]})\n",
    "axs[0].plot(sample[\"X\"].T, color='gray', linewidth='0.7', label='HHZ')\n",
    "axs[1].plot(sample[\"y\"][:2].T, label=['P-wave','S-wave'])\n",
    "axs[1].plot(sample[\"detections\"].T, label='Detection')\n",
    "\n",
    "model.eval()  # close the model for evaluation\n",
    "\n",
    "with torch.no_grad():\n",
    "    pred = model(torch.tensor(sample[\"X\"], device=model.device).unsqueeze(0))  # Add a fake batch dimension\n",
    "    pred = torch.stack(pred, dim=1)[0].cpu().numpy()\n",
    "\n",
    "pred_rearanged = np.empty(pred.shape)\n",
    "pred_rearanged[0] = pred[1]\n",
    "pred_rearanged[1] = pred[2]\n",
    "pred_rearanged[2] = pred[0]\n",
    "\n",
    "axs[2].plot(pred_rearanged.T, label=['P-wave','S-wave','Detection'])\n",
    "\n",
    "for ax in axs:\n",
    "    ax.legend()\n"
   ]
  },
  {
   "cell_type": "code",
   "execution_count": 33,
   "metadata": {},
   "outputs": [],
   "source": [
    "# Save the model\n",
    "torch.save(model, 'eqt_model_4epoch.pt')\n"
   ]
  },
  {
   "cell_type": "code",
   "execution_count": 25,
   "metadata": {},
   "outputs": [],
   "source": [
    "# Load the model\n",
    "model = torch.load('eqt_model_4epoch.pt')\n"
   ]
  },
  {
   "cell_type": "code",
   "execution_count": null,
   "metadata": {},
   "outputs": [],
   "source": []
  }
 ],
 "metadata": {
  "kernelspec": {
   "display_name": "Python 3 (ipykernel)",
   "language": "python",
   "name": "python3"
  },
  "language_info": {
   "codemirror_mode": {
    "name": "ipython",
    "version": 3
   },
   "file_extension": ".py",
   "mimetype": "text/x-python",
   "name": "python",
   "nbconvert_exporter": "python",
   "pygments_lexer": "ipython3",
   "version": "3.10.13"
  }
 },
 "nbformat": 4,
 "nbformat_minor": 5
}
