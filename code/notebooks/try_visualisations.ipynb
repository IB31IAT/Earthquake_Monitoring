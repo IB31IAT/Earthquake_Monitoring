{
 "cells": [
  {
   "cell_type": "code",
   "execution_count": null,
   "id": "c7788449-7ec8-4dba-bcc7-cf85bb80dcec",
   "metadata": {},
   "outputs": [],
   "source": [
    "import os\n",
    "os.chdir(\"../\") # This is necessary to find utils module"
   ]
  },
  {
   "cell_type": "code",
   "execution_count": null,
   "id": "7db824ee-cc96-49d1-aea2-18faeb9efd22",
   "metadata": {},
   "outputs": [],
   "source": [
    "import importlib\n",
    "import matplotlib.pyplot as plt\n",
    "import pickle\n",
    "\n",
    "import utils.visualisations as vis\n",
    "\n",
    "with open(\"../results/evaluation/metrics/eqt_metrics.pickle\", \"rb\") as f:\n",
    "    metrics = pickle.load(f)\n",
    "\n",
    "metrics.keys()"
   ]
  },
  {
   "cell_type": "code",
   "execution_count": null,
   "id": "dcd339c0-340b-40f5-a36f-43a5b085f920",
   "metadata": {},
   "outputs": [],
   "source": [
    "importlib.reload(vis)"
   ]
  },
  {
   "cell_type": "code",
   "execution_count": null,
   "id": "8e374143-0f46-4590-8241-ddd63474070a",
   "metadata": {},
   "outputs": [],
   "source": [
    "fig, ax = plt.subplots(1, 1)\n",
    "\n",
    "vis.confusion_matrix(metrics, ax=ax)"
   ]
  }
 ],
 "metadata": {
  "kernelspec": {
   "display_name": "Python 3 (ipykernel)",
   "language": "python",
   "name": "python3"
  },
  "language_info": {
   "codemirror_mode": {
    "name": "ipython",
    "version": 3
   },
   "file_extension": ".py",
   "mimetype": "text/x-python",
   "name": "python",
   "nbconvert_exporter": "python",
   "pygments_lexer": "ipython3",
   "version": "3.11.5"
  }
 },
 "nbformat": 4,
 "nbformat_minor": 5
}
