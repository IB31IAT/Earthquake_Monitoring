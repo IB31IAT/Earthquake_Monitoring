{
 "cells": [
  {
   "cell_type": "markdown",
   "id": "5bf7e258-2b02-472c-a8e3-b388e935a648",
   "metadata": {},
   "source": [
    "# Convert STEAD data into Seisbench format\n",
    "This notebook contains mostly copy-pasted code from seisbench/seisbench/data/stead.py for converting STEAD data into the Seisbench format.\n",
    "Note that all paths are currently hard-coded.\n",
    "Explanations for the paths are next to their occurrences.\n",
    "For convenience, I also added the seisbench-transformed, *but not the original!*, 100samples dataset to the git repository."
   ]
  },
  {
   "cell_type": "code",
   "execution_count": 1,
   "id": "3e9b5eb3-ef93-47ec-b089-191ca702ec31",
   "metadata": {},
   "outputs": [],
   "source": [
    "import pandas as pd\n",
    "import h5py\n",
    "from seisbench.data import WaveformDataset, WaveformDataWriter"
   ]
  },
  {
   "cell_type": "code",
   "execution_count": 2,
   "id": "d004e5c0-5dcc-4f93-9884-0b883989dd27",
   "metadata": {},
   "outputs": [],
   "source": [
    "metadata_dict = {\n",
    "            \"trace_start_time\": \"trace_start_time\",\n",
    "            \"trace_category\": \"trace_category\",\n",
    "            \"trace_name\": \"trace_name\",\n",
    "            \"p_arrival_sample\": \"trace_p_arrival_sample\",\n",
    "            \"p_status\": \"trace_p_status\",\n",
    "            \"p_weight\": \"trace_p_weight\",\n",
    "            \"p_travel_sec\": \"path_p_travel_sec\",\n",
    "            \"s_arrival_sample\": \"trace_s_arrival_sample\",\n",
    "            \"s_status\": \"trace_s_status\",\n",
    "            \"s_weight\": \"trace_s_weight\",\n",
    "            \"s_travel_sec\": \"path_s_travel_sec\",\n",
    "            \"back_azimuth_deg\": \"path_back_azimuth_deg\",\n",
    "            \"snr_db\": \"trace_snr_db\",\n",
    "            \"coda_end_sample\": \"trace_coda_end_sample\",\n",
    "            \"network_code\": \"station_network_code\",\n",
    "            \"receiver_code\": \"station_code\",\n",
    "            \"receiver_type\": \"trace_channel\",\n",
    "            \"receiver_latitude\": \"station_latitude_deg\",\n",
    "            \"receiver_longitude\": \"station_longitude_deg\",\n",
    "            \"receiver_elevation_m\": \"station_elevation_m\",\n",
    "            \"source_id\": \"source_id\",\n",
    "            \"source_origin_time\": \"source_origin_time\",\n",
    "            \"source_origin_uncertainty_sec\": \"source_origin_uncertainty_sec\",\n",
    "            \"source_latitude\": \"source_latitude_deg\",\n",
    "            \"source_longitude\": \"source_longitude_deg\",\n",
    "            \"source_error_sec\": \"source_error_sec\",\n",
    "            \"source_gap_deg\": \"source_gap_deg\",\n",
    "            \"source_horizontal_uncertainty_km\": \"source_horizontal_uncertainty_km\",\n",
    "            \"source_depth_km\": \"source_depth_km\",\n",
    "            \"source_depth_uncertainty_km\": \"source_depth_uncertainty_km\",\n",
    "            \"source_magnitude\": \"source_magnitude\",\n",
    "            \"source_magnitude_type\": \"source_magnitude_type\",\n",
    "            \"source_magnitude_author\": \"source_magnitude_author\",\n",
    "        }"
   ]
  },
  {
   "cell_type": "markdown",
   "id": "e82bbfa4-b427-4bcd-a999-55a11b31a8c4",
   "metadata": {},
   "source": [
    "Read the metadata csv-file.\n",
    "Confusingly, it is named `merged.csv` in my case, but really corresponds to 100samples.csv from the EQTransformer repository."
   ]
  },
  {
   "cell_type": "code",
   "execution_count": 3,
   "id": "845ada5d-5d46-402d-92d2-e3ab0f2d84fb",
   "metadata": {},
   "outputs": [],
   "source": [
    "metadata = pd.read_csv(\"data/STEAD/example/merged.csv\")\n",
    "metadata.rename(columns = metadata_dict, inplace = True)"
   ]
  },
  {
   "cell_type": "markdown",
   "id": "bdaf4542-c184-4797-9d40-b1ae37477139",
   "metadata": {},
   "source": [
    "`metadata_path` and `waveforms_path` denote the target-paths for the seisbench-transformed data."
   ]
  },
  {
   "cell_type": "code",
   "execution_count": 4,
   "id": "bda4683c-c2bf-46c2-8af1-cffb099a2a52",
   "metadata": {},
   "outputs": [],
   "source": [
    "writer = WaveformDataWriter(metadata_path = \"data/STEAD/example/seisbench/metadata.csv\", waveforms_path = \"data/STEAD/example/seisbench/waveforms.hdf5\")"
   ]
  },
  {
   "cell_type": "code",
   "execution_count": 5,
   "id": "53399db6-3608-4d30-b8a6-9a9ca56bab08",
   "metadata": {},
   "outputs": [],
   "source": [
    "# Set split\n",
    "test_split = metadata[\"trace_name\"].sample(frac = 0.1)\n",
    "test_mask = metadata[\"trace_name\"].isin(test_split)\n",
    "train_dev = metadata[\"trace_name\"][~test_mask].values\n",
    "dev_split = train_dev[\n",
    "    ::10\n",
    "]  # Use 5% of total traces as suggested in EQTransformer Github repository\n",
    "# 100 samples; 10 test; 81 train; 9 dev (ie validation)\n",
    "dev_mask = metadata[\"trace_name\"].isin(dev_split)\n",
    "metadata[\"split\"] = \"train\"\n",
    "metadata.loc[dev_mask, \"split\"] = \"dev\"\n",
    "metadata.loc[test_mask, \"split\"] = \"test\""
   ]
  },
  {
   "cell_type": "code",
   "execution_count": 6,
   "id": "973e1e02-2132-422b-b07a-496ad6cef12a",
   "metadata": {},
   "outputs": [],
   "source": [
    "writer.data_format = {\n",
    "            \"dimension_order\": \"CW\",\n",
    "            \"component_order\": \"ZNE\",\n",
    "            \"sampling_rate\": 100,\n",
    "            \"measurement\": \"velocity\",\n",
    "            \"unit\": \"counts\",\n",
    "            \"instrument_response\": \"not restituted\",\n",
    "        }"
   ]
  },
  {
   "cell_type": "code",
   "execution_count": 7,
   "id": "7ab6953f-bd17-47b5-97db-d72b1927d9e6",
   "metadata": {},
   "outputs": [
    {
     "name": "stderr",
     "output_type": "stream",
     "text": [
      "Traces converted: 0it [00:00, ?it/s]"
     ]
    }
   ],
   "source": [
    "writer.set_total(len(metadata))"
   ]
  },
  {
   "cell_type": "markdown",
   "id": "c5cce988-ebb3-4380-9528-311449c3aab0",
   "metadata": {},
   "source": [
    "Finally, merged.hdf5 is really 100samples.hdf5"
   ]
  },
  {
   "cell_type": "code",
   "execution_count": 8,
   "id": "3d8a7386-1d30-4894-a22a-21285a7b959d",
   "metadata": {},
   "outputs": [],
   "source": [
    "with h5py.File(\"data/STEAD/example/merged.hdf5\") as f:\n",
    "    gdata = f[\"data\"]\n",
    "    for _, row in metadata.iterrows():\n",
    "        row = row.to_dict()\n",
    "        waveforms = gdata[row[\"trace_name\"]][()]\n",
    "        waveforms = waveforms.T  # From WC to CW\n",
    "        waveforms = waveforms[[2, 1, 0]]  # From ENZ to ZNE\n",
    "\n",
    "        writer.add_trace(row, waveforms)"
   ]
  },
  {
   "cell_type": "code",
   "execution_count": 9,
   "id": "c74adbd8-0eee-42ad-ade1-66f817e82d31",
   "metadata": {},
   "outputs": [],
   "source": [
    "writer._finalize()"
   ]
  }
 ],
 "metadata": {
  "kernelspec": {
   "display_name": "Python 3 (ipykernel)",
   "language": "python",
   "name": "python3"
  },
  "language_info": {
   "codemirror_mode": {
    "name": "ipython",
    "version": 3
   },
   "file_extension": ".py",
   "mimetype": "text/x-python",
   "name": "python",
   "nbconvert_exporter": "python",
   "pygments_lexer": "ipython3",
   "version": "3.11.5"
  }
 },
 "nbformat": 4,
 "nbformat_minor": 5
}
