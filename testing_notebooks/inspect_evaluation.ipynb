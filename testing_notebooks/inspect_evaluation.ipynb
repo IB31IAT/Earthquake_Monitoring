{
 "cells": [
  {
   "cell_type": "markdown",
   "metadata": {},
   "source": [
    "# Evaluation Inspection\n",
    "This noteobook is used to inspect the evaluation data craeted using the script `evaluate_model.py`."
   ]
  },
  {
   "cell_type": "code",
   "execution_count": 1,
   "metadata": {},
   "outputs": [],
   "source": [
    "import pickle\n"
   ]
  },
  {
   "cell_type": "code",
   "execution_count": 9,
   "metadata": {},
   "outputs": [],
   "source": [
    "with open('eqt_swag_metrics.pickle', 'rb') as in_file:\n",
    "  x = pickle.load(in_file)\n"
   ]
  },
  {
   "cell_type": "code",
   "execution_count": 10,
   "metadata": {},
   "outputs": [
    {
     "name": "stdout",
     "output_type": "stream",
     "text": [
      "det_roc: (array([0.        , 0.        , 0.        , ..., 0.9820624 , 0.98214741,\n",
      "       1.        ]), array([0.00000000e+00, 5.82298137e-05, 7.76397516e-05, ...,\n",
      "       1.00000000e+00, 1.00000000e+00, 1.00000000e+00]), array([          inf, 9.9999928e-01, 9.9999917e-01, ..., 5.1504012e-05,\n",
      "       5.1489427e-05, 3.2710970e-05], dtype=float32))\n",
      "det_confusion_matrix: [[ 23289    237]\n",
      " [   121 102919]]\n",
      "det_precision_score: 0.9977025088215906\n",
      "det_recall_score: 0.998825698757764\n",
      "det_f1_score: 0.9982637878523346\n",
      "p_mu: -1.2345222302018621\n",
      "p_std: 61.70601498487431\n",
      "p_MAE: 7.250888734472049\n",
      "p_MAPE: 0.01188582181349704\n",
      "s_mu: -0.6185990159161477\n",
      "s_std: 142.10076356566154\n",
      "s_MAE: 30.878223410326086\n",
      "s_MAPE: 0.021944320798241813\n"
     ]
    }
   ],
   "source": [
    "for k, v in x.items():\n",
    "  print(f\"{k}: {v}\")\n"
   ]
  }
 ],
 "metadata": {
  "kernelspec": {
   "display_name": "seisbench",
   "language": "python",
   "name": "python3"
  },
  "language_info": {
   "codemirror_mode": {
    "name": "ipython",
    "version": 3
   },
   "file_extension": ".py",
   "mimetype": "text/x-python",
   "name": "python",
   "nbconvert_exporter": "python",
   "pygments_lexer": "ipython3",
   "version": "3.10.13"
  }
 },
 "nbformat": 4,
 "nbformat_minor": 2
}
