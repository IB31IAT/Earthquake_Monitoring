{
 "cells": [
  {
   "cell_type": "markdown",
   "metadata": {},
   "source": [
    "# Stead analysis\n",
    "This notebooke examines native stead data"
   ]
  },
  {
   "cell_type": "code",
   "execution_count": 1,
   "id": "d565ae20-46d0-4c0e-b811-1c7d15e945cb",
   "metadata": {},
   "outputs": [],
   "source": [
    "import pandas as pd\n",
    "import h5py\n",
    "import numpy as np\n",
    "import matplotlib.pyplot as plt\n"
   ]
  },
  {
   "cell_type": "code",
   "execution_count": 2,
   "id": "a4b3a464-488b-42f9-aa3f-0f2f84804bfe",
   "metadata": {},
   "outputs": [],
   "source": [
    "file_name = \"data/STEAD/chunk2.hdf5\"\n",
    "csv_file = \"data/STEAD/chunk2.csv\"\n"
   ]
  },
  {
   "cell_type": "code",
   "execution_count": 3,
   "id": "65edf85d-88eb-44d3-8929-53b46cfd83d7",
   "metadata": {},
   "outputs": [
    {
     "name": "stdout",
     "output_type": "stream",
     "text": [
      "total events in csv file: 200000\n",
      "total events selected: 268\n"
     ]
    }
   ],
   "source": [
    "# reading the csv file into a dataframe:\n",
    "df = pd.read_csv(csv_file, low_memory=False)\n",
    "print(f'total events in csv file: {len(df)}')\n",
    "# filterering the dataframe\n",
    "df = df[(df.trace_category == 'earthquake_local') & (df.source_distance_km <= 20) & (df.source_magnitude > 3)]\n",
    "print(f'total events selected: {len(df)}')\n",
    "\n",
    "# making a list of trace names for the selected data\n",
    "ev_list = df['trace_name'].to_list()\n"
   ]
  },
  {
   "cell_type": "code",
   "execution_count": null,
   "id": "bc4511a3-8f55-4d4a-bf52-d6016137c86d",
   "metadata": {},
   "outputs": [
    {
     "data": {
      "image/png": "[encoded data removed]",
      "text/plain": [
       "<Figure size 640x480 with 1 Axes>"
      ]
     },
     "metadata": {},
     "output_type": "display_data"
    },
    {
     "name": "stdout",
     "output_type": "stream",
     "text": [
      "back_azimuth_deg 56.9\n",
      "coda_end_sample [[1228.]]\n",
      "network_code CN\n",
      "p_arrival_sample 400.0\n",
      "p_status manual\n",
      "p_travel_sec 4.630000114440918\n",
      "p_weight 0.5\n",
      "receiver_code A16\n",
      "receiver_elevation_m 13.0\n",
      "receiver_latitude 47.468\n",
      "receiver_longitude -70.0096\n",
      "receiver_type HH\n",
      "s_arrival_sample 686.0\n",
      "s_status manual\n",
      "s_weight 0.5\n",
      "snr_db [72.40000153 61.70000076 62.20000076]\n",
      "source_depth_km 17.42\n",
      "source_depth_uncertainty_km 7.6\n",
      "source_distance_deg 0.18\n",
      "source_distance_km 19.21\n",
      "source_error_sec 0.8797\n",
      "source_gap_deg 37.699\n",
      "source_horizontal_uncertainty_km 2.68655\n",
      "source_id 606589340\n",
      "source_latitude 47.3748\n",
      "source_longitude -70.2239\n",
      "source_magnitude 3.7\n",
      "source_magnitude_author None\n",
      "source_magnitude_type mb_lg\n",
      "source_mechanism_strike_dip_rake None\n",
      "source_origin_time 2015-01-21 05:31:58.92\n",
      "source_origin_uncertainty_sec 0.76\n",
      "trace_category earthquake_local\n",
      "trace_name A16.CN_20150121053158_EV\n",
      "trace_start_time 2015-01-21 05:31:59.550000\n"
     ]
    }
   ],
   "source": [
    "with h5py.File(file_name, 'r') as dtfl:\n",
    "    for c, evi in enumerate(ev_list):\n",
    "        dataset = dtfl.get('data/'+str(evi))\n",
    "        # waveforms, 3 channels: first row: E channel, second row: N channel, third row: Z channel\n",
    "        data = np.array(dataset)\n",
    "\n",
    "        fig = plt.figure()\n",
    "        ax = fig.add_subplot(313)\n",
    "        plt.plot(data[:,2], 'k')\n",
    "        plt.rcParams[\"figure.figsize\"] = (8,5)\n",
    "        legend_properties = {'weight':'bold'}\n",
    "        plt.tight_layout()\n",
    "        plt.ylabel('Amplitude counts', fontsize=12)\n",
    "        ax.set_xticklabels([])\n",
    "        plt.show()\n",
    "\n",
    "        for at in dataset.attrs:\n",
    "            print(at, dataset.attrs[at])\n",
    "\n",
    "        inp = input(\"Press a key to plot the next waveform!\")\n",
    "        if inp == \"r\":\n",
    "            continue\n"
   ]
  },
  {
   "cell_type": "code",
   "execution_count": null,
   "id": "d9389d81-5fad-431d-a96a-91d5bafcca75",
   "metadata": {},
   "outputs": [],
   "source": []
  }
 ],
 "metadata": {
  "kernelspec": {
   "display_name": "Python 3 (ipykernel)",
   "language": "python",
   "name": "python3"
  },
  "language_info": {
   "codemirror_mode": {
    "name": "ipython",
    "version": 3
   },
   "file_extension": ".py",
   "mimetype": "text/x-python",
   "name": "python",
   "nbconvert_exporter": "python",
   "pygments_lexer": "ipython3",
   "version": "3.11.5"
  }
 },
 "nbformat": 4,
 "nbformat_minor": 5
}
