{
 "cells": [
  {
   "cell_type": "markdown",
   "metadata": {},
   "source": [
    "# Evaluation visualization\n",
    "This notebook is used to visualize the evaluation data generated with the scripts in `evaluate_model.py`."
   ]
  },
  {
   "cell_type": "code",
   "execution_count": 1,
   "id": "1c86ae46-cbec-4c12-8226-2f2efc046b7d",
   "metadata": {},
   "outputs": [],
   "source": [
    "import numpy as np\n",
    "\n",
    "import pickle\n",
    "\n",
    "from sklearn.metrics import ConfusionMatrixDisplay\n",
    "import matplotlib.pyplot as plt\n"
   ]
  },
  {
   "cell_type": "code",
   "execution_count": 2,
   "id": "8aa7d857-01af-4188-9658-0fdb98f62c24",
   "metadata": {},
   "outputs": [
    {
     "data": {
      "text/plain": [
       "dict_keys(['det_roc', 'det_confusion_matrix', 'det_precision_score', 'det_recall_score', 'det_f1_score', 'p_mu', 'p_std', 'p_MAE', 'p_MAPE', 's_mu', 's_std', 's_MAE', 's_MAPE'])"
      ]
     },
     "execution_count": 2,
     "metadata": {},
     "output_type": "execute_result"
    }
   ],
   "source": [
    "with open(\"eqt_metrics.pickle\", \"rb\") as f:\n",
    "    metrics = pickle.load(f)\n",
    "\n",
    "metrics.keys()\n"
   ]
  },
  {
   "cell_type": "code",
   "execution_count": 3,
   "id": "a9eafb81-53e3-4f4b-a8d6-bc10301a5675",
   "metadata": {},
   "outputs": [
    {
     "ename": "KeyError",
     "evalue": "'p_res'",
     "output_type": "error",
     "traceback": [
      "\u001b[0;31m---------------------------------------------------------------------------\u001b[0m",
      "\u001b[0;31mKeyError\u001b[0m                                  Traceback (most recent call last)",
      "\u001b[1;32m/home/trahn/git/Earthquake_Monitoring/Evaluation.ipynb Cell 3\u001b[0m line \u001b[0;36m2\n\u001b[1;32m      <a href='vscode-notebook-cell://ssh-remote%2Bsisma/home/trahn/git/Earthquake_Monitoring/Evaluation.ipynb#W2sdnNjb2RlLXJlbW90ZQ%3D%3D?line=0'>1</a>\u001b[0m confusion_matrix \u001b[39m=\u001b[39m metrics[\u001b[39m\"\u001b[39m\u001b[39mdet_confusion_matrix\u001b[39m\u001b[39m\"\u001b[39m]\n\u001b[0;32m----> <a href='vscode-notebook-cell://ssh-remote%2Bsisma/home/trahn/git/Earthquake_Monitoring/Evaluation.ipynb#W2sdnNjb2RlLXJlbW90ZQ%3D%3D?line=1'>2</a>\u001b[0m p_res \u001b[39m=\u001b[39m metrics[\u001b[39m\"\u001b[39;49m\u001b[39mp_res\u001b[39;49m\u001b[39m\"\u001b[39;49m]\n\u001b[1;32m      <a href='vscode-notebook-cell://ssh-remote%2Bsisma/home/trahn/git/Earthquake_Monitoring/Evaluation.ipynb#W2sdnNjb2RlLXJlbW90ZQ%3D%3D?line=2'>3</a>\u001b[0m s_res \u001b[39m=\u001b[39m metrics[\u001b[39m\"\u001b[39m\u001b[39ms_res\u001b[39m\u001b[39m\"\u001b[39m]\n\u001b[1;32m      <a href='vscode-notebook-cell://ssh-remote%2Bsisma/home/trahn/git/Earthquake_Monitoring/Evaluation.ipynb#W2sdnNjb2RlLXJlbW90ZQ%3D%3D?line=3'>4</a>\u001b[0m snr \u001b[39m=\u001b[39m metrics[\u001b[39m\"\u001b[39m\u001b[39msnr\u001b[39m\u001b[39m\"\u001b[39m]\n",
      "\u001b[0;31mKeyError\u001b[0m: 'p_res'"
     ]
    }
   ],
   "source": [
    "confusion_matrix = metrics[\"det_confusion_matrix\"]\n",
    "p_res = metrics[\"p_res\"]\n",
    "s_res = metrics[\"s_res\"]\n",
    "snr = metrics[\"snr\"]\n"
   ]
  },
  {
   "cell_type": "code",
   "execution_count": null,
   "id": "82fd44f5-3ae4-4885-8577-6bc891eaece5",
   "metadata": {},
   "outputs": [],
   "source": [
    "disp = ConfusionMatrixDisplay(confusion_matrix=confusion_matrix)\n",
    "disp.plot()\n",
    "\n",
    "plt.show()\n"
   ]
  },
  {
   "cell_type": "code",
   "execution_count": null,
   "id": "32b5c794-a079-4452-b9eb-9bb7c4aa1de3",
   "metadata": {},
   "outputs": [],
   "source": [
    "fig, axs = plt.subplots(2, 2)\n",
    "\n",
    "p_indices = np.abs(p_res) < 100\n",
    "s_indices = np.abs(s_res) < 100\n",
    "\n",
    "axs[0, 0].hist(p_res[p_indices], bins=50)\n",
    "axs[0, 1].scatter(snr[p_indices][::100], p_res[p_indices][::100])\n",
    "axs[1, 0].hist(s_res[s_indices], bins=50)\n",
    "axs[1, 1].scatter(snr[s_indices][::100], s_res[s_indices][::100])\n",
    "\n",
    "\n",
    "plt.show()\n"
   ]
  },
  {
   "cell_type": "code",
   "execution_count": null,
   "id": "9ad260a8-be87-4437-8da8-61d7c366b3da",
   "metadata": {},
   "outputs": [],
   "source": []
  }
 ],
 "metadata": {
  "kernelspec": {
   "display_name": "Python 3 (ipykernel)",
   "language": "python",
   "name": "python3"
  },
  "language_info": {
   "codemirror_mode": {
    "name": "ipython",
    "version": 3
   },
   "file_extension": ".py",
   "mimetype": "text/x-python",
   "name": "python",
   "nbconvert_exporter": "python",
   "pygments_lexer": "ipython3",
   "version": "3.10.13"
  }
 },
 "nbformat": 4,
 "nbformat_minor": 5
}
