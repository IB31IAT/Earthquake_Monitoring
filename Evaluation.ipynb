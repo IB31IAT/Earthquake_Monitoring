{
 "cells": [
  {
   "cell_type": "code",
   "execution_count": null,
   "id": "1c86ae46-cbec-4c12-8226-2f2efc046b7d",
   "metadata": {},
   "outputs": [],
   "source": [
    "import numpy as np\n",
    "import torch\n",
    "\n",
    "import seisbench.generate as sbg\n",
    "from seisbench.data import WaveformDataset\n",
    "from seisbench.models import EQTransformer\n",
    "\n",
    "import swag\n",
    "\n",
    "import matplotlib.pyplot as plt\n",
    "\n",
    "from evaluation import eval"
   ]
  },
  {
   "cell_type": "code",
   "execution_count": null,
   "id": "64e42f69-57b9-4e79-8dbc-8af8ccab47a0",
   "metadata": {},
   "outputs": [],
   "source": [
    "# Load saved model.\n",
    "swag_model = swag.posteriors.SWAG(\n",
    "    EQTransformer,\n",
    "    no_cov_mat=True,\n",
    "    max_num_models=20,\n",
    "    in_channels=1,\n",
    ")\n",
    "model = EQTransformer(in_channels=1)\n",
    "\n",
    "checkpoint = torch.load(\"swag_runs/second swag run/checkpoint-20.pt\", map_location=torch.device('cpu'))\n",
    "model.load_state_dict(checkpoint[\"state_dict\"])"
   ]
  },
  {
   "cell_type": "code",
   "execution_count": null,
   "id": "8aa7d857-01af-4188-9658-0fdb98f62c24",
   "metadata": {},
   "outputs": [],
   "source": [
    "# Load data.\n",
    "data = WaveformDataset(\"data/STEAD/example/seisbench\")"
   ]
  },
  {
   "cell_type": "code",
   "execution_count": null,
   "id": "c453b192-e545-4cea-818e-b0a3e83647ac",
   "metadata": {},
   "outputs": [],
   "source": [
    "# Evalute model.\n",
    "# TODO: p_mu, p_std, … are in units of `sampling_rate`, i.e., if sampling_rate == 100 Hz, then a p_mu of 1 means 1 * 100 Hz == 0.01s\n",
    "eval(model, data.test())"
   ]
  },
  {
   "cell_type": "code",
   "execution_count": null,
   "id": "32b5c794-a079-4452-b9eb-9bb7c4aa1de3",
   "metadata": {},
   "outputs": [],
   "source": []
  }
 ],
 "metadata": {
  "kernelspec": {
   "display_name": "Python 3 (ipykernel)",
   "language": "python",
   "name": "python3"
  },
  "language_info": {
   "codemirror_mode": {
    "name": "ipython",
    "version": 3
   },
   "file_extension": ".py",
   "mimetype": "text/x-python",
   "name": "python",
   "nbconvert_exporter": "python",
   "pygments_lexer": "ipython3",
   "version": "3.11.5"
  }
 },
 "nbformat": 4,
 "nbformat_minor": 5
}
