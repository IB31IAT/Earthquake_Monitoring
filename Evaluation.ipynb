{
 "cells": [
  {
   "cell_type": "code",
   "execution_count": null,
   "id": "1c86ae46-cbec-4c12-8226-2f2efc046b7d",
   "metadata": {},
   "outputs": [],
   "source": [
    "import numpy as np\n",
    "\n",
    "import pickle\n",
    "\n",
    "from sklearn.metrics import ConfusionMatrixDisplay\n",
    "import matplotlib.pyplot as plt"
   ]
  },
  {
   "cell_type": "code",
   "execution_count": null,
   "id": "8aa7d857-01af-4188-9658-0fdb98f62c24",
   "metadata": {},
   "outputs": [],
   "source": [
    "with open(\"results/eqt_metrics.pickle\", \"rb\") as f:\n",
    "    metrics = pickle.load(f)\n",
    "\n",
    "metrics.keys()"
   ]
  },
  {
   "cell_type": "code",
   "execution_count": null,
   "id": "a9eafb81-53e3-4f4b-a8d6-bc10301a5675",
   "metadata": {},
   "outputs": [],
   "source": [
    "confusion_matrix = metrics[\"det_confusion_matrix\"]\n",
    "p_res = metrics[\"p_res\"]\n",
    "s_res = metrics[\"s_res\"]\n",
    "snr = metrics[\"snr\"]"
   ]
  },
  {
   "cell_type": "code",
   "execution_count": null,
   "id": "82fd44f5-3ae4-4885-8577-6bc891eaece5",
   "metadata": {},
   "outputs": [],
   "source": [
    "disp = ConfusionMatrixDisplay(confusion_matrix=confusion_matrix)\n",
    "disp.plot()\n",
    "\n",
    "plt.show()"
   ]
  },
  {
   "cell_type": "code",
   "execution_count": null,
   "id": "32b5c794-a079-4452-b9eb-9bb7c4aa1de3",
   "metadata": {},
   "outputs": [],
   "source": [
    "fig, axs = plt.subplots(2, 2)\n",
    "\n",
    "p_indices = np.abs(p_res) < 100\n",
    "s_indices = np.abs(s_res) < 100\n",
    "\n",
    "axs[0, 0].hist(p_res[p_indices], bins=50)\n",
    "axs[0, 1].scatter(snr[p_indices][::100], p_res[p_indices][::100])\n",
    "axs[1, 0].hist(s_res[s_indices], bins=50)\n",
    "axs[1, 1].scatter(snr[s_indices][::100], s_res[s_indices][::100])\n",
    "\n",
    "\n",
    "plt.show()"
   ]
  },
  {
   "cell_type": "code",
   "execution_count": null,
   "id": "9ad260a8-be87-4437-8da8-61d7c366b3da",
   "metadata": {},
   "outputs": [],
   "source": []
  }
 ],
 "metadata": {
  "kernelspec": {
   "display_name": "Python 3 (ipykernel)",
   "language": "python",
   "name": "python3"
  },
  "language_info": {
   "codemirror_mode": {
    "name": "ipython",
    "version": 3
   },
   "file_extension": ".py",
   "mimetype": "text/x-python",
   "name": "python",
   "nbconvert_exporter": "python",
   "pygments_lexer": "ipython3",
   "version": "3.11.5"
  }
 },
 "nbformat": 4,
 "nbformat_minor": 5
}
