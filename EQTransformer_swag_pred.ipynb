{
 "cells": [
  {
   "cell_type": "markdown",
   "id": "50b8afc9-02cd-49a2-a0e4-469d140b6c65",
   "metadata": {},
   "source": [
    "# Example Usage of EQTransformer from seisbench\n",
    "This notebook is mostly an uncommented version of the “03a_training_phasenet” notebook from the seisbench repository."
   ]
  },
  {
   "cell_type": "code",
   "execution_count": 46,
   "id": "4f37cd84-df3b-4756-b6c7-1528f5f6babf",
   "metadata": {},
   "outputs": [],
   "source": [
    "import seisbench.generate as sbg\n",
    "import seisbench.models as sbm\n",
    "\n",
    "from seisbench.data import WaveformDataset\n",
    "from seisbench.models import EQTransformer\n",
    "from seisbench.util import worker_seeding\n",
    "\n",
    "import numpy as np\n",
    "import matplotlib.pyplot as plt\n",
    "import torch\n",
    "from torch.utils.data import DataLoader\n",
    "\n",
    "import pandas as pd\n",
    "from utils import preprocess\n"
   ]
  },
  {
   "cell_type": "markdown",
   "id": "da776276-4e09-4c49-ac92-51641fb67eea",
   "metadata": {},
   "source": [
    "Load the 100Samples dataset from the EQTransformer repository but transformed into seisbench-compatible format."
   ]
  },
  {
   "cell_type": "markdown",
   "id": "7e8d2a30-3ff4-420f-96fd-6199725b4b2f",
   "metadata": {},
   "source": [
    "Rename the label columns."
   ]
  },
  {
   "cell_type": "markdown",
   "id": "f416e51f-ffda-4f60-a19e-28a61f7649d3",
   "metadata": {},
   "source": [
    "Perform (minimal) data augmentation.  I assume (but did not test) that `ChangeDtype` is necessary for the code to run; `ProbabilisticLabeller` provides the probability curves below, but I do not know how they are calculated."
   ]
  },
  {
   "cell_type": "code",
   "execution_count": 124,
   "id": "12fa2458-da1f-4c0d-a2dd-02a264744848",
   "metadata": {},
   "outputs": [],
   "source": [
    "batch_size = 1000 #\n",
    "num_workers = 24  # The number of threads used for loading data\n",
    "\n",
    "data = WaveformDataset(\"data/STEAD/example/seisbench\")\n",
    "\n",
    "train_loader, dev_loader, test_loader = preprocess(data, batch_size, num_workers)\n"
   ]
  },
  {
   "cell_type": "code",
   "execution_count": null,
   "metadata": {},
   "outputs": [],
   "source": [
    "from swag.posteriors import SWAG\n",
    "\n",
    "dataset = test_loader.dataset\n",
    "# Get a random sample\n",
    "random_index = int(np.random.random()*len(dataset))\n",
    "sample = dataset[random_index]\n",
    "\n",
    "fig = plt.figure(figsize=(10, 5))\n",
    "axs = fig.subplots(3, 1, sharex=True, gridspec_kw={\"hspace\": 0, \"height_ratios\": [2, 1, 1]})\n",
    "\n",
    "axs[0].plot((sample[\"X\"][0]/np.amax(sample[\"X\"][0])).T, label='HHZ', linewidth=1)\n",
    "axs[1].plot(sample[\"y\"].T, label=['P-wave','S-wave','Detection'])\n",
    "\n",
    "weights = torch.load('.cache/swag-5.pt')['state_dict']\n",
    "model = SWAG(\n",
    "        EQTransformer,\n",
    "        no_cov_mat=True,\n",
    "        max_num_models=20,\n",
    "        in_channels= 1\n",
    "    )\n",
    "model.load_state_dict(state_dict=weights, strict=False)\n",
    "model.cuda()\n",
    "\n",
    "model.sample(0.0)\n",
    "pred = model(torch.tensor(sample['X'][:1,:], device='cuda').unsqueeze(0)).detach().cpu().numpy()[0]\n",
    "axs[2].plot(pred.T, label=['P-wave','S-wave','Detection'])\n",
    "\n",
    "print(pred)\n",
    "\n",
    "for ax in axs:\n",
    "    ax.legend()\n"
   ]
  }
 ],
 "metadata": {
  "kernelspec": {
   "display_name": "Python 3 (ipykernel)",
   "language": "python",
   "name": "python3"
  },
  "language_info": {
   "codemirror_mode": {
    "name": "ipython",
    "version": 3
   },
   "file_extension": ".py",
   "mimetype": "text/x-python",
   "name": "python",
   "nbconvert_exporter": "python",
   "pygments_lexer": "ipython3",
   "version": "3.11.5"
  }
 },
 "nbformat": 4,
 "nbformat_minor": 5
}
